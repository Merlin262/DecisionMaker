{
 "cells": [
  {
   "cell_type": "code",
   "execution_count": 1,
   "metadata": {},
   "outputs": [],
   "source": [
    "import pandas as pd"
   ]
  },
  {
   "cell_type": "code",
   "execution_count": 2,
   "metadata": {},
   "outputs": [],
   "source": [
    "movies_df = pd.read_table(\"data/data.tsv\", low_memory=False)\n",
    "filtro_df = movies_df.loc[movies_df['titleType']!='tvEpisode']"
   ]
  },
  {
   "cell_type": "code",
   "execution_count": 3,
   "metadata": {},
   "outputs": [
    {
     "name": "stdout",
     "output_type": "stream",
     "text": [
      "Menu\n"
     ]
    }
   ],
   "source": [
    "print(\"Menu\")\n",
    "categoria=int(input(\"Escolha dentre as categorias a seguir: \\n 1 - Priorizar tipo de filme\\n 2 - Priorizar gênero\\n 3 - Priorizar classificação indicativa\\n 4 - Ano de lançamento\\n Opção desejada: \"))"
   ]
  },
  {
   "cell_type": "code",
   "execution_count": 9,
   "metadata": {},
   "outputs": [
    {
     "data": {
      "text/html": [
       "<div>\n",
       "<style scoped>\n",
       "    .dataframe tbody tr th:only-of-type {\n",
       "        vertical-align: middle;\n",
       "    }\n",
       "\n",
       "    .dataframe tbody tr th {\n",
       "        vertical-align: top;\n",
       "    }\n",
       "\n",
       "    .dataframe thead th {\n",
       "        text-align: right;\n",
       "    }\n",
       "</style>\n",
       "<table border=\"1\" class=\"dataframe\">\n",
       "  <thead>\n",
       "    <tr style=\"text-align: right;\">\n",
       "      <th></th>\n",
       "      <th>tconst</th>\n",
       "      <th>titleType</th>\n",
       "      <th>primaryTitle</th>\n",
       "      <th>originalTitle</th>\n",
       "      <th>isAdult</th>\n",
       "      <th>startYear</th>\n",
       "      <th>endYear</th>\n",
       "      <th>runtimeMinutes</th>\n",
       "      <th>genres</th>\n",
       "    </tr>\n",
       "  </thead>\n",
       "  <tbody>\n",
       "    <tr>\n",
       "      <th>50768</th>\n",
       "      <td>tt0051706</td>\n",
       "      <td>movie</td>\n",
       "      <td>The Haunted Strangler</td>\n",
       "      <td>Grip of the Strangler</td>\n",
       "      <td>0</td>\n",
       "      <td>1958</td>\n",
       "      <td>\\N</td>\n",
       "      <td>78</td>\n",
       "      <td>Crime,Horror,Mystery</td>\n",
       "    </tr>\n",
       "  </tbody>\n",
       "</table>\n",
       "</div>"
      ],
      "text/plain": [
       "          tconst titleType           primaryTitle          originalTitle  \\\n",
       "50768  tt0051706     movie  The Haunted Strangler  Grip of the Strangler   \n",
       "\n",
       "      isAdult startYear endYear runtimeMinutes                genres  \n",
       "50768       0      1958      \\N             78  Crime,Horror,Mystery  "
      ]
     },
     "metadata": {},
     "output_type": "display_data"
    }
   ],
   "source": [
    "if categoria==1:\n",
    "    tipo=(input(\"Escreva 'short' para curta e 'movie' para filmes e 'tvSeries': \"))\n",
    "    display(filtro_df[filtro_df['titleType'] == tipo].sample())\n",
    "\n",
    "elif categoria==2:\n",
    "    gen=input(\"Informe o gênero desejado (exemplo: 'Animation; Comedy; Drama...'): \")\n",
    "    print(filtro_df[filtro_df['genres'] == gen].sample())\n",
    "\n",
    "elif categoria==3:\n",
    "    opc=input(\"Informe se deseja uma mídia para maiores de idade('-18' ou '+18'): \")\n",
    "    if opc == '-18':\n",
    "        print(filtro_df[filtro_df['isAdult'] == '0'].sample())\n",
    "    elif opc == '+18':\n",
    "        print(filtro_df[filtro_df['isAdult'] == '1'].sample())\n",
    "    else:\n",
    "        print(\"Informe um valor válido\")    \n",
    "        \n",
    "elif categoria==4:\n",
    "    ano=input(\"Informe o Ano desejado: \")\n",
    "    print(filtro_df[filtro_df['startYear'] == ano].sample())"
   ]
  }
 ],
 "metadata": {
  "kernelspec": {
   "display_name": "studysession",
   "language": "python",
   "name": "python3"
  },
  "language_info": {
   "codemirror_mode": {
    "name": "ipython",
    "version": 3
   },
   "file_extension": ".py",
   "mimetype": "text/x-python",
   "name": "python",
   "nbconvert_exporter": "python",
   "pygments_lexer": "ipython3",
   "version": "3.9.13"
  },
  "orig_nbformat": 4,
  "vscode": {
   "interpreter": {
    "hash": "430b5f363b9e004f7e981fc39bb12f0d128375a6a11cd68581fc02c9cc55b400"
   }
  }
 },
 "nbformat": 4,
 "nbformat_minor": 2
}
